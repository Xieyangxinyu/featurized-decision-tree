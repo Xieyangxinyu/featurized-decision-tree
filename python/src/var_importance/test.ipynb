{
 "cells": [
  {
   "cell_type": "code",
   "execution_count": 5,
   "metadata": {},
   "outputs": [],
   "source": [
    "import numpy as np\n",
    "from scipy.stats import special_ortho_group\n",
    "O = special_ortho_group.rvs(5)"
   ]
  },
  {
   "cell_type": "code",
   "execution_count": 6,
   "metadata": {},
   "outputs": [
    {
     "data": {
      "text/plain": [
       "array([[ 0.18157504, -0.57946366, -0.6985167 , -0.04809009, -0.3755185 ],\n",
       "       [-0.08766444, -0.49391548,  0.47926067,  0.6724531 , -0.25783421],\n",
       "       [-0.73585245,  0.37478123, -0.34664422,  0.30070161, -0.32783613],\n",
       "       [-0.35074853, -0.35320216, -0.24684572,  0.18185102,  0.81130826],\n",
       "       [-0.54299363, -0.39377231,  0.31825871, -0.64961752, -0.16373683]])"
      ]
     },
     "execution_count": 6,
     "metadata": {},
     "output_type": "execute_result"
    }
   ],
   "source": []
  }
 ],
 "metadata": {
  "kernelspec": {
   "display_name": "venv",
   "language": "python",
   "name": "python3"
  },
  "language_info": {
   "codemirror_mode": {
    "name": "ipython",
    "version": 3
   },
   "file_extension": ".py",
   "mimetype": "text/x-python",
   "name": "python",
   "nbconvert_exporter": "python",
   "pygments_lexer": "ipython3",
   "version": "3.10.9"
  },
  "orig_nbformat": 4
 },
 "nbformat": 4,
 "nbformat_minor": 2
}
